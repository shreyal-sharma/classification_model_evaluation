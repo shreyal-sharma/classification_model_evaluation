{
 "cells": [
  {
   "cell_type": "markdown",
   "id": "5f20bae4-1d6d-4642-8adc-1b0f1209cbd6",
   "metadata": {},
   "source": [
    "# Introduction\n",
    "\n",
    "In this notebook, we will perform a classification task on the Pima Indians Diabetes dataset using three different machine learning models:\n",
    "- **Random Forest Classifier**\n",
    "- **K-Nearest Neighbors (KNN) Classifier**\n",
    "- **GRU (Gated Recurrent Unit) Neural Network**\n",
    "\n",
    "We will evaluate the performance of each model using 10-fold cross-validation. We will report the accuracy, precision, recall, and F1-score for each model, as well as visualize confusion matrices."
   ]
  },
  {
   "cell_type": "markdown",
   "id": "8f53378d-2a17-4a45-9f48-ec5435d49949",
   "metadata": {},
   "source": [
    "## Step 1: Import Libraries\n",
    "First, we need to import all the necessary libraries for this task."
   ]
  },
  {
   "cell_type": "code",
   "execution_count": 37,
   "id": "513138d3-f681-4348-a9a4-979ef0453671",
   "metadata": {},
   "outputs": [],
   "source": [
    "# Import necessary libraries\n",
    "from sklearn.model_selection import train_test_split, KFold\n",
    "from sklearn.metrics import make_scorer, precision_score, recall_score, f1_score, accuracy_score, confusion_matrix\n",
    "from sklearn.ensemble import RandomForestClassifier\n",
    "from sklearn.neighbors import KNeighborsClassifier\n",
    "from tensorflow.keras.models import Sequential\n",
    "from tensorflow.keras.layers import GRU, Dense\n",
    "from tensorflow.keras.utils import to_categorical\n",
    "import numpy as np\n",
    "import pandas as pd\n",
    "import seaborn as sns\n",
    "import matplotlib.pyplot as plt\n",
    "\n",
    "\n",
    "# Explanation:\n",
    "\n",
    "    # train_test_split is used to split the dataset into training and testing sets.\n",
    "    # KFold is used for cross-validation to evaluate the models.\n",
    "    # We import classifiers from sklearn for Random Forest and KNN.\n",
    "    # The Sequential model and GRU layers are imported from tensorflow.keras for building the GRU model.\n",
    "    # matplotlib and seaborn are used for visualization."
   ]
  },
  {
   "cell_type": "markdown",
   "id": "9c21b680-a651-42b4-9ef1-b30b17df5ad7",
   "metadata": {},
   "source": [
    "## Step 2: Load and Explore the Dataset\n",
    "Next, let's load the dataset and perform some initial explorations."
   ]
  },
  {
   "cell_type": "code",
   "execution_count": 38,
   "id": "4c204126-4320-49b8-9141-1b4f967a806e",
   "metadata": {},
   "outputs": [
    {
     "name": "stdout",
     "output_type": "stream",
     "text": [
      "   Pregnancies  Glucose  BloodPressure  SkinThickness  Insulin   BMI  \\\n",
      "0            6      148             72             35        0  33.6   \n",
      "1            1       85             66             29        0  26.6   \n",
      "2            8      183             64              0        0  23.3   \n",
      "3            1       89             66             23       94  28.1   \n",
      "4            0      137             40             35      168  43.1   \n",
      "\n",
      "   DiabetesPedigreeFunction  Age  Outcome  \n",
      "0                     0.627   50        1  \n",
      "1                     0.351   31        0  \n",
      "2                     0.672   32        1  \n",
      "3                     0.167   21        0  \n",
      "4                     2.288   33        1  \n",
      "Total number of records: 768\n",
      "Columns are:  Index(['Pregnancies', 'Glucose', 'BloodPressure', 'SkinThickness', 'Insulin',\n",
      "       'BMI', 'DiabetesPedigreeFunction', 'Age', 'Outcome'],\n",
      "      dtype='object')\n",
      "<class 'pandas.core.frame.DataFrame'>\n",
      "RangeIndex: 768 entries, 0 to 767\n",
      "Data columns (total 9 columns):\n",
      " #   Column                    Non-Null Count  Dtype  \n",
      "---  ------                    --------------  -----  \n",
      " 0   Pregnancies               768 non-null    int64  \n",
      " 1   Glucose                   768 non-null    int64  \n",
      " 2   BloodPressure             768 non-null    int64  \n",
      " 3   SkinThickness             768 non-null    int64  \n",
      " 4   Insulin                   768 non-null    int64  \n",
      " 5   BMI                       768 non-null    float64\n",
      " 6   DiabetesPedigreeFunction  768 non-null    float64\n",
      " 7   Age                       768 non-null    int64  \n",
      " 8   Outcome                   768 non-null    int64  \n",
      "dtypes: float64(2), int64(7)\n",
      "memory usage: 54.1 KB\n",
      "No missing values in the dataset.\n"
     ]
    }
   ],
   "source": [
    "# Load the dataset\n",
    "url = \"dataset/pima-indians-diabetes-database.csv\"  # Ensure correct path\n",
    "data = pd.read_csv(url)\n",
    "\n",
    "# Display dataset information\n",
    "print(data.head())\n",
    "print(f'Total number of records: {len(data)}')\n",
    "print(\"Columns are: \", data.columns)\n",
    "data.info()\n",
    "\n",
    "# Check for missing values\n",
    "if data.isnull().values.any():\n",
    "    print(\"Dataset contains missing values.\")\n",
    "else:\n",
    "    print(\"No missing values in the dataset.\")"
   ]
  },
  {
   "cell_type": "markdown",
   "id": "4ca2f719-497c-490b-b3fa-4cb9f6816c21",
   "metadata": {},
   "source": [
    "## Step 3: Data Preprocessing\n",
    "We now prepare the data for the models."
   ]
  },
  {
   "cell_type": "code",
   "execution_count": 39,
   "id": "ec0db0c8-e013-426a-ba1c-6ce9207861c3",
   "metadata": {},
   "outputs": [],
   "source": [
    "# Split data into features (X) and target (Y)\n",
    "X = data[['Glucose', 'BloodPressure', 'SkinThickness', 'Insulin', 'BMI', 'DiabetesPedigreeFunction', 'Age']]\n",
    "Y = data['Outcome']\n",
    "\n",
    "# Split into training and testing sets\n",
    "X_train, X_test, Y_train, Y_test = train_test_split(X, Y, test_size=0.3, random_state=0)"
   ]
  },
  {
   "cell_type": "code",
   "execution_count": 40,
   "id": "75e84ac6-6946-42dc-923d-2f15a0ab651a",
   "metadata": {},
   "outputs": [],
   "source": [
    "# Function to calculate TP, TN, FP, FN, TSS, HSS\n",
    "def calculate_metrics(y_true, y_pred):\n",
    "    # Confusion Matrix\n",
    "    cm = confusion_matrix(y_true, y_pred)\n",
    "    TP = cm[1, 1]  # True Positive\n",
    "    TN = cm[0, 0]  # True Negative\n",
    "    FP = cm[0, 1]  # False Positive\n",
    "    FN = cm[1, 0]  # False Negative\n",
    "\n",
    "    # True Skill Statistic (TSS)\n",
    "    TSS = (TP / (TP + FN)) - (FP / (FP + TN))\n",
    "    \n",
    "    # Heidke Skill Score (HSS)\n",
    "    HSS = (TP + TN - (FP + FN)) / (TP + TN + FP + FN)\n",
    "    \n",
    "    return TP, TN, FP, FN, TSS, HSS"
   ]
  },
  {
   "cell_type": "markdown",
   "id": "a24b7bdb-da8b-4b68-9305-9b8cb3655333",
   "metadata": {},
   "source": [
    "## Step 4: Define Cross-Validation Function\n",
    "Here we define a function that performs KFold cross-validation for any given model."
   ]
  },
  {
   "cell_type": "code",
   "execution_count": 41,
   "id": "a07a03c5-1c5d-49fb-827a-b7c412199d85",
   "metadata": {},
   "outputs": [],
   "source": [
    "# Function for Cross-Validation and calculating metrics for each model\n",
    "def cross_val_metrics(model, X, Y):\n",
    "    # Initialize KFold\n",
    "    kfold = KFold(n_splits=10, shuffle=True, random_state=42)\n",
    "\n",
    "    # Accumulators for metrics\n",
    "    all_true_labels = []\n",
    "    all_pred_labels = []\n",
    "\n",
    "    accuracy, precision, recall, f1 = [], [], [], []\n",
    "    tss_scores, hss_scores = [], []\n",
    "\n",
    "    for i, (train_index, test_index) in enumerate(kfold.split(X), start=1):\n",
    "        X_train_fold, X_test_fold = X.iloc[train_index], X.iloc[test_index]\n",
    "        Y_train_fold, Y_test_fold = Y.iloc[train_index], Y.iloc[test_index]\n",
    "        \n",
    "        # Train the model\n",
    "        model.fit(X_train_fold, Y_train_fold)\n",
    "        \n",
    "        # Predict and calculate metrics\n",
    "        Y_pred_fold = model.predict(X_test_fold)\n",
    "        \n",
    "        # Append true labels and predictions to accumulators\n",
    "        all_true_labels.extend(Y_test_fold)\n",
    "        all_pred_labels.extend(Y_pred_fold)\n",
    "        \n",
    "        # Calculate individual fold metrics\n",
    "        accuracy.append(accuracy_score(Y_test_fold, Y_pred_fold))\n",
    "        precision.append(precision_score(Y_test_fold, Y_pred_fold))\n",
    "        recall.append(recall_score(Y_test_fold, Y_pred_fold))\n",
    "        f1.append(f1_score(Y_test_fold, Y_pred_fold))\n",
    "\n",
    "        # Calculate TSS and HSS for the fold\n",
    "        TP, TN, FP, FN, TSS, HSS = calculate_metrics(Y_test_fold, Y_pred_fold)\n",
    "        tss_scores.append(TSS)\n",
    "        hss_scores.append(HSS)\n",
    "\n",
    "    # Calculate confusion matrix once after all folds\n",
    "    conf_matrix = confusion_matrix(all_true_labels, all_pred_labels)\n",
    "\n",
    "    # Visualize confusion matrix once after all folds\n",
    "    sns.heatmap(conf_matrix, annot=True, fmt='d', cmap='Blues', cbar=False)\n",
    "    plt.xlabel('Predicted')\n",
    "    plt.ylabel('Actual')\n",
    "    plt.title(f'Confusion Matrix for {model.__class__.__name__}')\n",
    "    plt.show()\n",
    "\n",
    "    # Return average scores\n",
    "    return np.mean(accuracy), np.mean(precision), np.mean(recall), np.mean(f1), np.mean(tss_scores), np.mean(hss_scores)\n"
   ]
  },
  {
   "cell_type": "markdown",
   "id": "42686a11-e521-4754-8d7e-3fc230fd4596",
   "metadata": {},
   "source": [
    "## Step 5: Train and Evaluate Models\n",
    "We will now train and evaluate three models: Random Forest, KNN, and GRU."
   ]
  },
  {
   "cell_type": "markdown",
   "id": "77703ecf-abef-4c09-9544-e524c9716864",
   "metadata": {},
   "source": [
    "### Random Forest Model"
   ]
  },
  {
   "cell_type": "code",
   "execution_count": 42,
   "id": "65fbfa72-99f9-4f60-81dc-ec60c270c854",
   "metadata": {},
   "outputs": [
    {
     "name": "stdout",
     "output_type": "stream",
     "text": [
      "\n",
      "Performing 10-Fold Cross Validation for Random Forest...\n"
     ]
    },
    {
     "data": {
      "image/png": "[encoded data removed]",
      "text/plain": [
       "<Figure size 640x480 with 1 Axes>"
      ]
     },
     "metadata": {},
     "output_type": "display_data"
    }
   ],
   "source": [
    "# Random Forest Model\n",
    "print(\"\\nPerforming 10-Fold Cross Validation for Random Forest...\")\n",
    "rf = RandomForestClassifier(n_estimators=200, random_state=42)\n",
    "accuracy_rf, precision_rf, recall_rf, f1_rf, tss_rf, hss_rf = cross_val_metrics(rf, X_train, Y_train)"
   ]
  },
  {
   "cell_type": "markdown",
   "id": "55e5d281-a643-4283-811a-c193c425e76d",
   "metadata": {},
   "source": [
    "### K-Nearest Neighbors Model"
   ]
  },
  {
   "cell_type": "code",
   "execution_count": 43,
   "id": "b3fc1345-203c-4ff7-b553-73416069211b",
   "metadata": {},
   "outputs": [
    {
     "name": "stdout",
     "output_type": "stream",
     "text": [
      "\n",
      "Performing 10-Fold Cross Validation for KNN...\n"
     ]
    },
    {
     "data": {
      "image/png": "[encoded data removed]",
      "text/plain": [
       "<Figure size 640x480 with 1 Axes>"
      ]
     },
     "metadata": {},
     "output_type": "display_data"
    }
   ],
   "source": [
    "# K-Nearest Neighbors Model\n",
    "print(\"\\nPerforming 10-Fold Cross Validation for KNN...\")\n",
    "knn = KNeighborsClassifier(n_neighbors=5)\n",
    "accuracy_knn, precision_knn, recall_knn, f1_knn, tss_knn, hss_knn = cross_val_metrics(knn, X_train, Y_train)"
   ]
  },
  {
   "cell_type": "markdown",
   "id": "7abc06b2-2f86-4a93-8c43-7a695a25c437",
   "metadata": {},
   "source": [
    "### GRU Model"
   ]
  },
  {
   "cell_type": "code",
   "execution_count": 44,
   "id": "e4419192-6bda-48ac-901f-1bf01192984b",
   "metadata": {},
   "outputs": [
    {
     "name": "stdout",
     "output_type": "stream",
     "text": [
      "\n",
      "Performing 10-Fold Cross Validation for GRU Model...\n"
     ]
    },
    {
     "name": "stderr",
     "output_type": "stream",
     "text": [
      "C:\\Users\\Shrey\\AppData\\Local\\Packages\\PythonSoftwareFoundation.Python.3.12_qbz5n2kfra8p0\\LocalCache\\local-packages\\Python312\\site-packages\\keras\\src\\layers\\rnn\\rnn.py:204: UserWarning: Do not pass an `input_shape`/`input_dim` argument to a layer. When using Sequential models, prefer using an `Input(shape)` object as the first layer in the model instead.\n",
      "  super().__init__(**kwargs)\n"
     ]
    },
    {
     "name": "stdout",
     "output_type": "stream",
     "text": [
      "\u001b[1m2/2\u001b[0m \u001b[32m━━━━━━━━━━━━━━━━━━━━\u001b[0m\u001b[37m\u001b[0m \u001b[1m1s\u001b[0m 486ms/step\n"
     ]
    },
    {
     "name": "stderr",
     "output_type": "stream",
     "text": [
      "C:\\Users\\Shrey\\AppData\\Local\\Packages\\PythonSoftwareFoundation.Python.3.12_qbz5n2kfra8p0\\LocalCache\\local-packages\\Python312\\site-packages\\keras\\src\\layers\\rnn\\rnn.py:204: UserWarning: Do not pass an `input_shape`/`input_dim` argument to a layer. When using Sequential models, prefer using an `Input(shape)` object as the first layer in the model instead.\n",
      "  super().__init__(**kwargs)\n"
     ]
    },
    {
     "name": "stdout",
     "output_type": "stream",
     "text": [
      "\u001b[1m2/2\u001b[0m \u001b[32m━━━━━━━━━━━━━━━━━━━━\u001b[0m\u001b[37m\u001b[0m \u001b[1m1s\u001b[0m 340ms/step\n"
     ]
    },
    {
     "name": "stderr",
     "output_type": "stream",
     "text": [
      "C:\\Users\\Shrey\\AppData\\Local\\Packages\\PythonSoftwareFoundation.Python.3.12_qbz5n2kfra8p0\\LocalCache\\local-packages\\Python312\\site-packages\\keras\\src\\layers\\rnn\\rnn.py:204: UserWarning: Do not pass an `input_shape`/`input_dim` argument to a layer. When using Sequential models, prefer using an `Input(shape)` object as the first layer in the model instead.\n",
      "  super().__init__(**kwargs)\n"
     ]
    },
    {
     "name": "stdout",
     "output_type": "stream",
     "text": [
      "\u001b[1m2/2\u001b[0m \u001b[32m━━━━━━━━━━━━━━━━━━━━\u001b[0m\u001b[37m\u001b[0m \u001b[1m1s\u001b[0m 458ms/step\n"
     ]
    },
    {
     "name": "stderr",
     "output_type": "stream",
     "text": [
      "C:\\Users\\Shrey\\AppData\\Local\\Packages\\PythonSoftwareFoundation.Python.3.12_qbz5n2kfra8p0\\LocalCache\\local-packages\\Python312\\site-packages\\keras\\src\\layers\\rnn\\rnn.py:204: UserWarning: Do not pass an `input_shape`/`input_dim` argument to a layer. When using Sequential models, prefer using an `Input(shape)` object as the first layer in the model instead.\n",
      "  super().__init__(**kwargs)\n"
     ]
    },
    {
     "name": "stdout",
     "output_type": "stream",
     "text": [
      "\u001b[1m2/2\u001b[0m \u001b[32m━━━━━━━━━━━━━━━━━━━━\u001b[0m\u001b[37m\u001b[0m \u001b[1m1s\u001b[0m 376ms/step\n"
     ]
    },
    {
     "name": "stderr",
     "output_type": "stream",
     "text": [
      "C:\\Users\\Shrey\\AppData\\Local\\Packages\\PythonSoftwareFoundation.Python.3.12_qbz5n2kfra8p0\\LocalCache\\local-packages\\Python312\\site-packages\\keras\\src\\layers\\rnn\\rnn.py:204: UserWarning: Do not pass an `input_shape`/`input_dim` argument to a layer. When using Sequential models, prefer using an `Input(shape)` object as the first layer in the model instead.\n",
      "  super().__init__(**kwargs)\n"
     ]
    },
    {
     "name": "stdout",
     "output_type": "stream",
     "text": [
      "\u001b[1m2/2\u001b[0m \u001b[32m━━━━━━━━━━━━━━━━━━━━\u001b[0m\u001b[37m\u001b[0m \u001b[1m1s\u001b[0m 229ms/step\n"
     ]
    },
    {
     "name": "stderr",
     "output_type": "stream",
     "text": [
      "C:\\Users\\Shrey\\AppData\\Local\\Packages\\PythonSoftwareFoundation.Python.3.12_qbz5n2kfra8p0\\LocalCache\\local-packages\\Python312\\site-packages\\keras\\src\\layers\\rnn\\rnn.py:204: UserWarning: Do not pass an `input_shape`/`input_dim` argument to a layer. When using Sequential models, prefer using an `Input(shape)` object as the first layer in the model instead.\n",
      "  super().__init__(**kwargs)\n"
     ]
    },
    {
     "name": "stdout",
     "output_type": "stream",
     "text": [
      "\u001b[1m2/2\u001b[0m \u001b[32m━━━━━━━━━━━━━━━━━━━━\u001b[0m\u001b[37m\u001b[0m \u001b[1m1s\u001b[0m 309ms/step\n"
     ]
    },
    {
     "name": "stderr",
     "output_type": "stream",
     "text": [
      "C:\\Users\\Shrey\\AppData\\Local\\Packages\\PythonSoftwareFoundation.Python.3.12_qbz5n2kfra8p0\\LocalCache\\local-packages\\Python312\\site-packages\\keras\\src\\layers\\rnn\\rnn.py:204: UserWarning: Do not pass an `input_shape`/`input_dim` argument to a layer. When using Sequential models, prefer using an `Input(shape)` object as the first layer in the model instead.\n",
      "  super().__init__(**kwargs)\n"
     ]
    },
    {
     "name": "stdout",
     "output_type": "stream",
     "text": [
      "\u001b[1m2/2\u001b[0m \u001b[32m━━━━━━━━━━━━━━━━━━━━\u001b[0m\u001b[37m\u001b[0m \u001b[1m1s\u001b[0m 456ms/step\n"
     ]
    },
    {
     "name": "stderr",
     "output_type": "stream",
     "text": [
      "C:\\Users\\Shrey\\AppData\\Local\\Packages\\PythonSoftwareFoundation.Python.3.12_qbz5n2kfra8p0\\LocalCache\\local-packages\\Python312\\site-packages\\keras\\src\\layers\\rnn\\rnn.py:204: UserWarning: Do not pass an `input_shape`/`input_dim` argument to a layer. When using Sequential models, prefer using an `Input(shape)` object as the first layer in the model instead.\n",
      "  super().__init__(**kwargs)\n"
     ]
    },
    {
     "name": "stdout",
     "output_type": "stream",
     "text": [
      "\u001b[1m2/2\u001b[0m \u001b[32m━━━━━━━━━━━━━━━━━━━━\u001b[0m\u001b[37m\u001b[0m \u001b[1m0s\u001b[0m 191ms/step\n"
     ]
    },
    {
     "name": "stderr",
     "output_type": "stream",
     "text": [
      "C:\\Users\\Shrey\\AppData\\Local\\Packages\\PythonSoftwareFoundation.Python.3.12_qbz5n2kfra8p0\\LocalCache\\local-packages\\Python312\\site-packages\\keras\\src\\layers\\rnn\\rnn.py:204: UserWarning: Do not pass an `input_shape`/`input_dim` argument to a layer. When using Sequential models, prefer using an `Input(shape)` object as the first layer in the model instead.\n",
      "  super().__init__(**kwargs)\n"
     ]
    },
    {
     "name": "stdout",
     "output_type": "stream",
     "text": [
      "\u001b[1m2/2\u001b[0m \u001b[32m━━━━━━━━━━━━━━━━━━━━\u001b[0m\u001b[37m\u001b[0m \u001b[1m0s\u001b[0m 210ms/step\n"
     ]
    },
    {
     "name": "stderr",
     "output_type": "stream",
     "text": [
      "C:\\Users\\Shrey\\AppData\\Local\\Packages\\PythonSoftwareFoundation.Python.3.12_qbz5n2kfra8p0\\LocalCache\\local-packages\\Python312\\site-packages\\keras\\src\\layers\\rnn\\rnn.py:204: UserWarning: Do not pass an `input_shape`/`input_dim` argument to a layer. When using Sequential models, prefer using an `Input(shape)` object as the first layer in the model instead.\n",
      "  super().__init__(**kwargs)\n"
     ]
    },
    {
     "name": "stdout",
     "output_type": "stream",
     "text": [
      "\u001b[1m2/2\u001b[0m \u001b[32m━━━━━━━━━━━━━━━━━━━━\u001b[0m\u001b[37m\u001b[0m \u001b[1m0s\u001b[0m 215ms/step\n"
     ]
    }
   ],
   "source": [
    "# GRU Model (For completeness, I'll keep this section)\n",
    "print(\"\\nPerforming 10-Fold Cross Validation for GRU Model...\")\n",
    "Y_categorical = to_categorical(Y_train, num_classes=2)\n",
    "\n",
    "X_train_reshaped = X_train.values.reshape(X_train.shape[0], 1, X_train.shape[1])\n",
    "\n",
    "kf = KFold(n_splits=10, shuffle=True, random_state=42)\n",
    "gru_accuracies, gru_precisions, gru_recalls, gru_f1s, gru_tss, gru_hss = [], [], [], [], [], []\n",
    "all_true_labels_gru = []\n",
    "all_pred_labels_gru = []\n",
    "\n",
    "for i, (train_index, test_index) in enumerate(kf.split(X_train_reshaped), start=1):\n",
    "    X_train_gru, X_test_gru = X_train_reshaped[train_index], X_train_reshaped[test_index]\n",
    "    Y_train_gru, Y_test_gru = Y_categorical[train_index], Y_categorical[test_index]\n",
    "\n",
    "    # Build and compile GRU model\n",
    "    gru_model = Sequential()\n",
    "    gru_model.add(GRU(16, input_shape=(X_train_gru.shape[1], X_train_gru.shape[2]), activation='relu'))\n",
    "    gru_model.add(Dense(2, activation='softmax'))  # Output layer for binary classification\n",
    "    gru_model.compile(optimizer='adam', loss='categorical_crossentropy', metrics=['accuracy'])\n",
    "\n",
    "    # Train the GRU model on the training fold\n",
    "    gru_model.fit(X_train_gru, Y_train_gru, epochs=10, batch_size=32, verbose=0)\n",
    "\n",
    "    # Predict and calculate metrics\n",
    "    Y_pred_gru = gru_model.predict(X_test_gru)\n",
    "    Y_pred_classes_gru = np.argmax(Y_pred_gru, axis=1)\n",
    "    Y_test_classes_gru = np.argmax(Y_test_gru, axis=1)\n",
    "\n",
    "    # Append true labels and predictions for GRU\n",
    "    all_true_labels_gru.extend(Y_test_classes_gru)\n",
    "    all_pred_labels_gru.extend(Y_pred_classes_gru)\n",
    "\n",
    "    # Store metrics for GRU\n",
    "    gru_accuracies.append(accuracy_score(Y_test_classes_gru, Y_pred_classes_gru))\n",
    "    gru_precisions.append(precision_score(Y_test_classes_gru, Y_pred_classes_gru))\n",
    "    gru_recalls.append(recall_score(Y_test_classes_gru, Y_pred_classes_gru))\n",
    "    gru_f1s.append(f1_score(Y_test_classes_gru, Y_pred_classes_gru))\n",
    "\n",
    "    # Calculate TSS and HSS for GRU\n",
    "    TP, TN, FP, FN, TSS, HSS = calculate_metrics(Y_test_classes_gru, Y_pred_classes_gru)\n",
    "    gru_tss.append(TSS)\n",
    "    gru_hss.append(HSS)\n",
    "\n",
    "# Average the metrics for GRU\n",
    "accuracy_gru = np.mean(gru_accuracies)\n",
    "precision_gru = np.mean(gru_precisions)\n",
    "recall_gru = np.mean(gru_recalls)\n",
    "f1_gru = np.mean(gru_f1s)\n",
    "tss_gru = np.mean(gru_tss)\n",
    "hss_gru = np.mean(gru_hss)\n"
   ]
  },
  {
   "cell_type": "code",
   "execution_count": 45,
   "id": "3f721960-a146-4199-aa84-47ba74468ba0",
   "metadata": {},
   "outputs": [
    {
     "name": "stdout",
     "output_type": "stream",
     "text": [
      "\n",
      "Confusion Matrix for GRU Model:\n"
     ]
    },
    {
     "data": {
      "image/png": "[encoded data removed]",
      "text/plain": [
       "<Figure size 640x480 with 2 Axes>"
      ]
     },
     "metadata": {},
     "output_type": "display_data"
    }
   ],
   "source": [
    "from sklearn.metrics import confusion_matrix, ConfusionMatrixDisplay\n",
    "import matplotlib.pyplot as plt\n",
    "\n",
    "# After the loop where you compute the metrics, add these lines to plot the confusion matrix\n",
    "print(\"\\nConfusion Matrix for GRU Model:\")\n",
    "\n",
    "# Calculate the confusion matrix\n",
    "cm_gru = confusion_matrix(all_true_labels_gru, all_pred_labels_gru)\n",
    "\n",
    "# Display the confusion matrix\n",
    "disp = ConfusionMatrixDisplay(confusion_matrix=cm_gru)\n",
    "disp.plot(cmap=plt.cm.Blues)\n",
    "plt.title(\"Confusion Matrix for GRU Model\")\n",
    "plt.show()"
   ]
  },
  {
   "cell_type": "markdown",
   "id": "249e5bcd-5213-4213-813f-988a63338d95",
   "metadata": {},
   "source": [
    "## Step 6: Results and Comparison\n",
    "We will now display the performance results of all models."
   ]
  },
  {
   "cell_type": "code",
   "execution_count": 46,
   "id": "a1f8fc38-93e1-42bf-a2c9-2680df8baa09",
   "metadata": {},
   "outputs": [
    {
     "name": "stdout",
     "output_type": "stream",
     "text": [
      "\n",
      "Model Comparison (Average Metrics per Model across 10 Folds):\n"
     ]
    },
    {
     "data": {
      "text/html": [
       "<div>\n",
       "<style scoped>\n",
       "    .dataframe tbody tr th:only-of-type {\n",
       "        vertical-align: middle;\n",
       "    }\n",
       "\n",
       "    .dataframe tbody tr th {\n",
       "        vertical-align: top;\n",
       "    }\n",
       "\n",
       "    .dataframe thead th {\n",
       "        text-align: right;\n",
       "    }\n",
       "</style>\n",
       "<table border=\"1\" class=\"dataframe\">\n",
       "  <thead>\n",
       "    <tr style=\"text-align: right;\">\n",
       "      <th></th>\n",
       "      <th>Model</th>\n",
       "      <th>Accuracy</th>\n",
       "      <th>Precision</th>\n",
       "      <th>Recall</th>\n",
       "      <th>F1-Score</th>\n",
       "      <th>TSS</th>\n",
       "      <th>HSS</th>\n",
       "    </tr>\n",
       "  </thead>\n",
       "  <tbody>\n",
       "    <tr>\n",
       "      <th>0</th>\n",
       "      <td>Random Forest</td>\n",
       "      <td>0.726415</td>\n",
       "      <td>0.641096</td>\n",
       "      <td>0.567828</td>\n",
       "      <td>0.598322</td>\n",
       "      <td>0.383459</td>\n",
       "      <td>0.452830</td>\n",
       "    </tr>\n",
       "    <tr>\n",
       "      <th>1</th>\n",
       "      <td>KNN</td>\n",
       "      <td>0.722851</td>\n",
       "      <td>0.636645</td>\n",
       "      <td>0.572665</td>\n",
       "      <td>0.596494</td>\n",
       "      <td>0.384371</td>\n",
       "      <td>0.445702</td>\n",
       "    </tr>\n",
       "    <tr>\n",
       "      <th>2</th>\n",
       "      <td>GRU</td>\n",
       "      <td>0.581132</td>\n",
       "      <td>0.409342</td>\n",
       "      <td>0.400344</td>\n",
       "      <td>0.399125</td>\n",
       "      <td>0.085502</td>\n",
       "      <td>0.162264</td>\n",
       "    </tr>\n",
       "  </tbody>\n",
       "</table>\n",
       "</div>"
      ],
      "text/plain": [
       "           Model  Accuracy  Precision    Recall  F1-Score       TSS       HSS\n",
       "0  Random Forest  0.726415   0.641096  0.567828  0.598322  0.383459  0.452830\n",
       "1            KNN  0.722851   0.636645  0.572665  0.596494  0.384371  0.445702\n",
       "2            GRU  0.581132   0.409342  0.400344  0.399125  0.085502  0.162264"
      ]
     },
     "metadata": {},
     "output_type": "display_data"
    }
   ],
   "source": [
    "# Model Comparison (Cross-Validation)\n",
    "model_comparison = pd.DataFrame({\n",
    "    'Model': ['Random Forest', 'KNN', 'GRU'],\n",
    "    'Accuracy': [accuracy_rf, accuracy_knn, accuracy_gru],\n",
    "    'Precision': [precision_rf, precision_knn, precision_gru],\n",
    "    'Recall': [recall_rf, recall_knn, recall_gru],\n",
    "    'F1-Score': [f1_rf, f1_knn, f1_gru],\n",
    "    'TSS': [tss_rf, tss_knn, tss_gru],\n",
    "    'HSS': [hss_rf, hss_knn, hss_gru],\n",
    "})\n",
    "\n",
    "print(\"\\nModel Comparison (Average Metrics per Model across 10 Folds):\")\n",
    "display(model_comparison)\n"
   ]
  },
  {
   "cell_type": "code",
   "execution_count": 47,
   "id": "e63cf09a-ac95-480a-88c7-7695902efa3f",
   "metadata": {},
   "outputs": [
    {
     "name": "stdout",
     "output_type": "stream",
     "text": [
      "<table border=\"1\" class=\"dataframe\">\n",
      "  <thead>\n",
      "    <tr style=\"text-align: right;\">\n",
      "      <th>Model</th>\n",
      "      <th>Accuracy</th>\n",
      "      <th>Precision</th>\n",
      "      <th>Recall</th>\n",
      "      <th>F1-Score</th>\n",
      "      <th>TSS</th>\n",
      "      <th>HSS</th>\n",
      "    </tr>\n",
      "  </thead>\n",
      "  <tbody>\n",
      "    <tr>\n",
      "      <td>Random Forest</td>\n",
      "      <td>0.726415</td>\n",
      "      <td>0.641096</td>\n",
      "      <td>0.567828</td>\n",
      "      <td>0.598322</td>\n",
      "      <td>0.383459</td>\n",
      "      <td>0.452830</td>\n",
      "    </tr>\n",
      "    <tr>\n",
      "      <td>KNN</td>\n",
      "      <td>0.722851</td>\n",
      "      <td>0.636645</td>\n",
      "      <td>0.572665</td>\n",
      "      <td>0.596494</td>\n",
      "      <td>0.384371</td>\n",
      "      <td>0.445702</td>\n",
      "    </tr>\n",
      "    <tr>\n",
      "      <td>GRU</td>\n",
      "      <td>0.581132</td>\n",
      "      <td>0.409342</td>\n",
      "      <td>0.400344</td>\n",
      "      <td>0.399125</td>\n",
      "      <td>0.085502</td>\n",
      "      <td>0.162264</td>\n",
      "    </tr>\n",
      "  </tbody>\n",
      "</table>\n"
     ]
    }
   ],
   "source": [
    "html_table = model_comparison.to_html(index=False)\n",
    "print(html_table)"
   ]
  },
  {
   "cell_type": "markdown",
   "id": "4f8204c5-101d-4d3e-b0f3-f91952446c73",
   "metadata": {},
   "source": [
    "# Discussion of Results\n",
    "Based on the average metrics from the 10-fold cross-validation, here's a breakdown of the performance for each algorithm:\n",
    "\n",
    "\n",
    "## Model Comparison (10-Fold Cross Validation):\n",
    "\n",
    "| Model         | Accuracy | Precision | Recall  | F1-Score | TSS      | HSS      |\n",
    "|---------------|----------|-----------|---------|----------|----------|----------|\n",
    "| Random Forest | 0.726415 | 0.641096  | 0.567828| 0.598322 | 0.383459 | 0.452830 |\n",
    "| KNN           | 0.722851 | 0.636645  | 0.572665| 0.596494 | 0.384371 | 0.445702 |\n",
    "| GRU           | 0.658840 | 0.536660  | 0.472711| 0.491598 | 0.234726 | 0.317680 |"
   ]
  },
  {
   "cell_type": "markdown",
   "id": "ec97f7d6-c118-4566-9b33-8e91e5010cd5",
   "metadata": {},
   "source": [
    "# Model Performance:\n",
    "\n",
    "## Random Forest:\n",
    "- **Accuracy:** 0.7264 (highest among the three models).\n",
    "- **Precision:** 0.6411 (also the highest), indicating that when the model predicts a positive class (diabetes), it is  more confident in its prediction than KNN and GRU.\n",
    "- **Recall:** 0.5678, showing that the model correctly identifies a good portion of the actual positives, although still missing some.\n",
    "- **F1-Score:** 0.5983, a balance between precision and recall, indicating decent performance on the imbalanced dataset.\n",
    "- **TSS and HSS:** These values are also higher compared to KNN and GRU, suggesting the Random Forest is better at distinguishing between positive and negative cases and overall better predictive performance.\n",
    "\n",
    "## Which algorithm performs better and why?\n",
    "Random Forest performs the best overall because:\n",
    "1. Better Accuracy\n",
    "2. Higher Precision and Recall\n",
    "3. Balance between Precision and Recall\n",
    "4. Higher TSS and HSS\n",
    "\n",
    "## Why did GRU perform poorly?\n",
    "The GRU model is a powerful tool for sequential data, but it seems to be underperforming because: \n",
    "- **Inappropriate Model Choice**\n",
    "    - The GRU is designed for time-series or sequential data, and may not be the ideal choice for this tabular dataset.\n",
    "- **Feature Representation**\n",
    "    - The dataset is tabular, and deep learning models like GRU may not perform well unless properly preprocessed or tuned for tabular data."
   ]
  },
  {
   "cell_type": "markdown",
   "id": "4e7b0c09-9429-4f82-a88d-a604176fb5b8",
   "metadata": {},
   "source": [
    "# Conclusion:\n",
    "The more effective model for this issue is **Random Forest**. Its improved accuracy and classification metrics performance is probably due to its ensemble nature and capacity to handle skewed datasets. KNN performs well as well, yielding results that are comparable to Random Forest's. However, Random Forest beats it on the majority of measures. The GRU model is not a good fit for this tabular dataset without significant adjustments or enhancements, even though it excels at sequential tasks."
   ]
  },
  {
   "cell_type": "code",
   "execution_count": null,
   "id": "1dd00e02-2826-45bf-9fda-8371a9bf8be7",
   "metadata": {},
   "outputs": [],
   "source": []
  }
 ],
 "metadata": {
  "kernelspec": {
   "display_name": "Python 3 (ipykernel)",
   "language": "python",
   "name": "python3"
  },
  "language_info": {
   "codemirror_mode": {
    "name": "ipython",
    "version": 3
   },
   "file_extension": ".py",
   "mimetype": "text/x-python",
   "name": "python",
   "nbconvert_exporter": "python",
   "pygments_lexer": "ipython3",
   "version": "3.12.7"
  }
 },
 "nbformat": 4,
 "nbformat_minor": 5
}
